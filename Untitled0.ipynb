{
  "nbformat": 4,
  "nbformat_minor": 0,
  "metadata": {
    "colab": {
      "provenance": []
    },
    "kernelspec": {
      "name": "python3",
      "display_name": "Python 3"
    },
    "language_info": {
      "name": "python"
    }
  },
  "cells": [
    {
      "cell_type": "code",
      "execution_count": 1,
      "metadata": {
        "colab": {
          "base_uri": "https://localhost:8080/"
        },
        "id": "2q6MBmkNl92q",
        "outputId": "412abac6-07ba-4977-9bab-bfe1e4483707"
      },
      "outputs": [
        {
          "output_type": "stream",
          "name": "stdout",
          "text": [
            "the sum of numbers from 1 to 5 is: 1\n",
            "the sum of numbers from 1 to 5 is: 3\n",
            "the sum of numbers from 1 to 5 is: 6\n",
            "the sum of numbers from 1 to 5 is: 10\n",
            "the sum of numbers from 1 to 5 is: 15\n"
          ]
        }
      ],
      "source": [
        "total=0\n",
        "for i in range(1,6):\n",
        "  total+=i\n",
        "  print(\"the sum of numbers from 1 to 5 is:\",total)"
      ]
    }
  ]
}